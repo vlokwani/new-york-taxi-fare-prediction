{
 "cells": [
  {
   "cell_type": "code",
   "execution_count": 10,
   "metadata": {},
   "outputs": [],
   "source": [
    "import pandas as pd\n",
    "import numpy as np"
   ]
  },
  {
   "cell_type": "code",
   "execution_count": 2,
   "metadata": {},
   "outputs": [],
   "source": [
    "# Loading 10M rows to create an overview of the data\n",
    "NUM_ROWS = 10000000"
   ]
  },
  {
   "cell_type": "code",
   "execution_count": 3,
   "metadata": {},
   "outputs": [],
   "source": [
    "train_df = pd.read_csv('../dataset/train.csv', nrows=NUM_ROWS)"
   ]
  },
  {
   "cell_type": "code",
   "execution_count": 5,
   "metadata": {},
   "outputs": [
    {
     "data": {
      "text/plain": [
       "(key                  10000000\n",
       " fare_amount          10000000\n",
       " pickup_datetime      10000000\n",
       " pickup_longitude     10000000\n",
       " pickup_latitude      10000000\n",
       " dropoff_longitude     9999931\n",
       " dropoff_latitude      9999931\n",
       " passenger_count      10000000\n",
       " dtype: int64, key                   object\n",
       " fare_amount          float64\n",
       " pickup_datetime       object\n",
       " pickup_longitude     float64\n",
       " pickup_latitude      float64\n",
       " dropoff_longitude    float64\n",
       " dropoff_latitude     float64\n",
       " passenger_count        int64\n",
       " dtype: object)"
      ]
     },
     "execution_count": 5,
     "metadata": {},
     "output_type": "execute_result"
    }
   ],
   "source": [
    "# Fetching the names of the columns that are present in the data\n",
    "columns = train_df.columns\n",
    "\n",
    "# Getting the count to see if the correct amout of data was retrieved\n",
    "# Also getting the dtypes of each column to get an idea of the data\n",
    "train_df.count(), train_df.dtypes"
   ]
  },
  {
   "cell_type": "code",
   "execution_count": 6,
   "metadata": {},
   "outputs": [
    {
     "data": {
      "text/plain": [
       "key                  False\n",
       "fare_amount          False\n",
       "pickup_datetime      False\n",
       "pickup_longitude     False\n",
       "pickup_latitude      False\n",
       "dropoff_longitude     True\n",
       "dropoff_latitude      True\n",
       "passenger_count      False\n",
       "dtype: bool"
      ]
     },
     "execution_count": 6,
     "metadata": {},
     "output_type": "execute_result"
    }
   ],
   "source": [
    "# Points to note\n",
    "#    -> something's off with dropoff_longitude and dropoff_latitide\n",
    "# scan for null or missing values in both columns\n",
    "train_df.isnull().any()"
   ]
  },
  {
   "cell_type": "code",
   "execution_count": 15,
   "metadata": {},
   "outputs": [
    {
     "data": {
      "text/plain": [
       "array([4835072, 9060096, 8131337, 4165644, 9496338, 4789267, 8913939,\n",
       "       2664981,  524834, 8631332, 2747686, 2455848, 2637865, 3310378,\n",
       "       9028651, 2267436, 4236846, 8862512, 6442547,  340533, 6660408,\n",
       "       9536062, 6678592, 9354560, 6189379,  794694,  574023, 1882440,\n",
       "        428108, 9754957, 6571093, 3700567, 6501722, 4854887, 7844202,\n",
       "       8891498, 1220978, 8190328, 5784187, 3244924, 7191178, 8552586,\n",
       "       9715861, 4114839, 6358428,  120227, 3952804, 5616035,  895400,\n",
       "       2455721, 9699243,  471472, 3162290, 4617652, 8160692, 1476796,\n",
       "       2277566,  245696, 2794177, 3941824, 5591752, 6269652, 9088217,\n",
       "       1521628, 9609188,  580338, 2087156, 9145845, 9093119])"
      ]
     },
     "execution_count": 15,
     "metadata": {},
     "output_type": "execute_result"
    }
   ],
   "source": [
    "# for sure there are null values in the dropoff_longitude and dropoff_latitude\n",
    "# These do not seem to be data in which null values can be substituted.\n",
    "# Removing these value for now, will come to it later.\n",
    "null_value_columns = ['dropoff_longitude', 'dropoff_latitude']\n",
    "\n",
    "#fetching indexes to be dropped\n",
    "drop_index_longitude = train_df[train_df['dropoff_longitude'].isnull()].index\n",
    "drop_index_latitude = train_df[train_df['dropoff_latitude'].isnull()].index\n",
    "drop_indexes = np.array(list(set(drop_index_longitude).union(set(drop_index_latitude))))\n",
    "drop_indexes"
   ]
  },
  {
   "cell_type": "code",
   "execution_count": 16,
   "metadata": {},
   "outputs": [
    {
     "data": {
      "text/plain": [
       "key                  9999931\n",
       "fare_amount          9999931\n",
       "pickup_datetime      9999931\n",
       "pickup_longitude     9999931\n",
       "pickup_latitude      9999931\n",
       "dropoff_longitude    9999931\n",
       "dropoff_latitude     9999931\n",
       "passenger_count      9999931\n",
       "dtype: int64"
      ]
     },
     "execution_count": 16,
     "metadata": {},
     "output_type": "execute_result"
    }
   ],
   "source": [
    "train_df.drop(drop_indexes, inplace=True)\n",
    "train_df.count()"
   ]
  },
  {
   "cell_type": "code",
   "execution_count": 17,
   "metadata": {},
   "outputs": [
    {
     "data": {
      "text/html": [
       "<div>\n",
       "<style scoped>\n",
       "    .dataframe tbody tr th:only-of-type {\n",
       "        vertical-align: middle;\n",
       "    }\n",
       "\n",
       "    .dataframe tbody tr th {\n",
       "        vertical-align: top;\n",
       "    }\n",
       "\n",
       "    .dataframe thead th {\n",
       "        text-align: right;\n",
       "    }\n",
       "</style>\n",
       "<table border=\"1\" class=\"dataframe\">\n",
       "  <thead>\n",
       "    <tr style=\"text-align: right;\">\n",
       "      <th></th>\n",
       "      <th>fare_amount</th>\n",
       "      <th>pickup_longitude</th>\n",
       "      <th>pickup_latitude</th>\n",
       "      <th>dropoff_longitude</th>\n",
       "      <th>dropoff_latitude</th>\n",
       "      <th>passenger_count</th>\n",
       "    </tr>\n",
       "  </thead>\n",
       "  <tbody>\n",
       "    <tr>\n",
       "      <th>count</th>\n",
       "      <td>9.999931e+06</td>\n",
       "      <td>9.999931e+06</td>\n",
       "      <td>9.999931e+06</td>\n",
       "      <td>9.999931e+06</td>\n",
       "      <td>9.999931e+06</td>\n",
       "      <td>9.999931e+06</td>\n",
       "    </tr>\n",
       "    <tr>\n",
       "      <th>mean</th>\n",
       "      <td>1.133849e+01</td>\n",
       "      <td>-7.250778e+01</td>\n",
       "      <td>3.991936e+01</td>\n",
       "      <td>-7.250897e+01</td>\n",
       "      <td>3.991913e+01</td>\n",
       "      <td>1.684805e+00</td>\n",
       "    </tr>\n",
       "    <tr>\n",
       "      <th>std</th>\n",
       "      <td>9.799845e+00</td>\n",
       "      <td>1.299413e+01</td>\n",
       "      <td>9.322519e+00</td>\n",
       "      <td>1.287532e+01</td>\n",
       "      <td>9.237280e+00</td>\n",
       "      <td>1.323421e+00</td>\n",
       "    </tr>\n",
       "    <tr>\n",
       "      <th>min</th>\n",
       "      <td>-1.077500e+02</td>\n",
       "      <td>-3.439245e+03</td>\n",
       "      <td>-3.492264e+03</td>\n",
       "      <td>-3.426601e+03</td>\n",
       "      <td>-3.488080e+03</td>\n",
       "      <td>0.000000e+00</td>\n",
       "    </tr>\n",
       "    <tr>\n",
       "      <th>25%</th>\n",
       "      <td>6.000000e+00</td>\n",
       "      <td>-7.399207e+01</td>\n",
       "      <td>4.073491e+01</td>\n",
       "      <td>-7.399139e+01</td>\n",
       "      <td>4.073403e+01</td>\n",
       "      <td>1.000000e+00</td>\n",
       "    </tr>\n",
       "    <tr>\n",
       "      <th>50%</th>\n",
       "      <td>8.500000e+00</td>\n",
       "      <td>-7.398181e+01</td>\n",
       "      <td>4.075263e+01</td>\n",
       "      <td>-7.398016e+01</td>\n",
       "      <td>4.075316e+01</td>\n",
       "      <td>1.000000e+00</td>\n",
       "    </tr>\n",
       "    <tr>\n",
       "      <th>75%</th>\n",
       "      <td>1.250000e+01</td>\n",
       "      <td>-7.396710e+01</td>\n",
       "      <td>4.076712e+01</td>\n",
       "      <td>-7.396367e+01</td>\n",
       "      <td>4.076810e+01</td>\n",
       "      <td>2.000000e+00</td>\n",
       "    </tr>\n",
       "    <tr>\n",
       "      <th>max</th>\n",
       "      <td>1.273310e+03</td>\n",
       "      <td>3.457626e+03</td>\n",
       "      <td>3.344459e+03</td>\n",
       "      <td>3.457622e+03</td>\n",
       "      <td>3.351403e+03</td>\n",
       "      <td>2.080000e+02</td>\n",
       "    </tr>\n",
       "  </tbody>\n",
       "</table>\n",
       "</div>"
      ],
      "text/plain": [
       "        fare_amount  pickup_longitude  pickup_latitude  dropoff_longitude  \\\n",
       "count  9.999931e+06      9.999931e+06     9.999931e+06       9.999931e+06   \n",
       "mean   1.133849e+01     -7.250778e+01     3.991936e+01      -7.250897e+01   \n",
       "std    9.799845e+00      1.299413e+01     9.322519e+00       1.287532e+01   \n",
       "min   -1.077500e+02     -3.439245e+03    -3.492264e+03      -3.426601e+03   \n",
       "25%    6.000000e+00     -7.399207e+01     4.073491e+01      -7.399139e+01   \n",
       "50%    8.500000e+00     -7.398181e+01     4.075263e+01      -7.398016e+01   \n",
       "75%    1.250000e+01     -7.396710e+01     4.076712e+01      -7.396367e+01   \n",
       "max    1.273310e+03      3.457626e+03     3.344459e+03       3.457622e+03   \n",
       "\n",
       "       dropoff_latitude  passenger_count  \n",
       "count      9.999931e+06     9.999931e+06  \n",
       "mean       3.991913e+01     1.684805e+00  \n",
       "std        9.237280e+00     1.323421e+00  \n",
       "min       -3.488080e+03     0.000000e+00  \n",
       "25%        4.073403e+01     1.000000e+00  \n",
       "50%        4.075316e+01     1.000000e+00  \n",
       "75%        4.076810e+01     2.000000e+00  \n",
       "max        3.351403e+03     2.080000e+02  "
      ]
     },
     "execution_count": 17,
     "metadata": {},
     "output_type": "execute_result"
    }
   ],
   "source": [
    "# Since most of the column datatype is numerical value, it should be safe to use describe here. \n",
    "train_df.describe()"
   ]
  },
  {
   "cell_type": "code",
   "execution_count": 21,
   "metadata": {},
   "outputs": [],
   "source": [
    "# I don't like scientific notation here, let's set the format type with pandas before calling describe API\n",
    "# Credit to Stack Overflow here: \n",
    "# https://stackoverflow.com/questions/21137150/format-suppress-scientific-notation-from-python-pandas-aggregation-results/21140339\n",
    "pd.set_option('display.float_format', lambda x: '%.3f' % x)"
   ]
  },
  {
   "cell_type": "code",
   "execution_count": 22,
   "metadata": {},
   "outputs": [
    {
     "data": {
      "text/html": [
       "<div>\n",
       "<style scoped>\n",
       "    .dataframe tbody tr th:only-of-type {\n",
       "        vertical-align: middle;\n",
       "    }\n",
       "\n",
       "    .dataframe tbody tr th {\n",
       "        vertical-align: top;\n",
       "    }\n",
       "\n",
       "    .dataframe thead th {\n",
       "        text-align: right;\n",
       "    }\n",
       "</style>\n",
       "<table border=\"1\" class=\"dataframe\">\n",
       "  <thead>\n",
       "    <tr style=\"text-align: right;\">\n",
       "      <th></th>\n",
       "      <th>fare_amount</th>\n",
       "      <th>pickup_longitude</th>\n",
       "      <th>pickup_latitude</th>\n",
       "      <th>dropoff_longitude</th>\n",
       "      <th>dropoff_latitude</th>\n",
       "      <th>passenger_count</th>\n",
       "    </tr>\n",
       "  </thead>\n",
       "  <tbody>\n",
       "    <tr>\n",
       "      <th>count</th>\n",
       "      <td>9999931.000</td>\n",
       "      <td>9999931.000</td>\n",
       "      <td>9999931.000</td>\n",
       "      <td>9999931.000</td>\n",
       "      <td>9999931.000</td>\n",
       "      <td>9999931.000</td>\n",
       "    </tr>\n",
       "    <tr>\n",
       "      <th>mean</th>\n",
       "      <td>11.338</td>\n",
       "      <td>-72.508</td>\n",
       "      <td>39.919</td>\n",
       "      <td>-72.509</td>\n",
       "      <td>39.919</td>\n",
       "      <td>1.685</td>\n",
       "    </tr>\n",
       "    <tr>\n",
       "      <th>std</th>\n",
       "      <td>9.800</td>\n",
       "      <td>12.994</td>\n",
       "      <td>9.323</td>\n",
       "      <td>12.875</td>\n",
       "      <td>9.237</td>\n",
       "      <td>1.323</td>\n",
       "    </tr>\n",
       "    <tr>\n",
       "      <th>min</th>\n",
       "      <td>-107.750</td>\n",
       "      <td>-3439.245</td>\n",
       "      <td>-3492.264</td>\n",
       "      <td>-3426.601</td>\n",
       "      <td>-3488.080</td>\n",
       "      <td>0.000</td>\n",
       "    </tr>\n",
       "    <tr>\n",
       "      <th>25%</th>\n",
       "      <td>6.000</td>\n",
       "      <td>-73.992</td>\n",
       "      <td>40.735</td>\n",
       "      <td>-73.991</td>\n",
       "      <td>40.734</td>\n",
       "      <td>1.000</td>\n",
       "    </tr>\n",
       "    <tr>\n",
       "      <th>50%</th>\n",
       "      <td>8.500</td>\n",
       "      <td>-73.982</td>\n",
       "      <td>40.753</td>\n",
       "      <td>-73.980</td>\n",
       "      <td>40.753</td>\n",
       "      <td>1.000</td>\n",
       "    </tr>\n",
       "    <tr>\n",
       "      <th>75%</th>\n",
       "      <td>12.500</td>\n",
       "      <td>-73.967</td>\n",
       "      <td>40.767</td>\n",
       "      <td>-73.964</td>\n",
       "      <td>40.768</td>\n",
       "      <td>2.000</td>\n",
       "    </tr>\n",
       "    <tr>\n",
       "      <th>max</th>\n",
       "      <td>1273.310</td>\n",
       "      <td>3457.626</td>\n",
       "      <td>3344.459</td>\n",
       "      <td>3457.622</td>\n",
       "      <td>3351.403</td>\n",
       "      <td>208.000</td>\n",
       "    </tr>\n",
       "  </tbody>\n",
       "</table>\n",
       "</div>"
      ],
      "text/plain": [
       "       fare_amount  pickup_longitude  pickup_latitude  dropoff_longitude  \\\n",
       "count  9999931.000       9999931.000      9999931.000        9999931.000   \n",
       "mean        11.338           -72.508           39.919            -72.509   \n",
       "std          9.800            12.994            9.323             12.875   \n",
       "min       -107.750         -3439.245        -3492.264          -3426.601   \n",
       "25%          6.000           -73.992           40.735            -73.991   \n",
       "50%          8.500           -73.982           40.753            -73.980   \n",
       "75%         12.500           -73.967           40.767            -73.964   \n",
       "max       1273.310          3457.626         3344.459           3457.622   \n",
       "\n",
       "       dropoff_latitude  passenger_count  \n",
       "count       9999931.000      9999931.000  \n",
       "mean             39.919            1.685  \n",
       "std               9.237            1.323  \n",
       "min           -3488.080            0.000  \n",
       "25%              40.734            1.000  \n",
       "50%              40.753            1.000  \n",
       "75%              40.768            2.000  \n",
       "max            3351.403          208.000  "
      ]
     },
     "execution_count": 22,
     "metadata": {},
     "output_type": "execute_result"
    }
   ],
   "source": [
    "train_df.describe()"
   ]
  }
 ],
 "metadata": {
  "kernelspec": {
   "display_name": "Python 3",
   "language": "python",
   "name": "python3"
  },
  "language_info": {
   "codemirror_mode": {
    "name": "ipython",
    "version": 3
   },
   "file_extension": ".py",
   "mimetype": "text/x-python",
   "name": "python",
   "nbconvert_exporter": "python",
   "pygments_lexer": "ipython3",
   "version": "3.6.5"
  }
 },
 "nbformat": 4,
 "nbformat_minor": 2
}
